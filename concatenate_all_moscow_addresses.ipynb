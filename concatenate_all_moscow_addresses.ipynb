{
 "cells": [
  {
   "cell_type": "code",
   "execution_count": 1,
   "metadata": {},
   "outputs": [],
   "source": [
    "import numpy as np\n",
    "import pandas as pd"
   ]
  },
  {
   "cell_type": "code",
   "execution_count": 2,
   "metadata": {},
   "outputs": [],
   "source": [
    "path_files = 'addresses/'"
   ]
  },
  {
   "cell_type": "code",
   "execution_count": 3,
   "metadata": {},
   "outputs": [],
   "source": [
    "address_1 = [x.split('\\n')[0] for x in open(path_files + 'file_0_4470.txt')]\n",
    "address_2 = [x.split('\\n')[0] for x in open(path_files + 'file_4470_7000.txt')]\n",
    "address_3 = [x.split('\\n')[0] for x in open(path_files + 'file_7000_8000.txt')]\n",
    "address_4 = [x.split('\\n')[0] for x in open(path_files + 'file_8000_9000.txt')]\n",
    "address_5 = [x.split('\\n')[0] for x in open(path_files + 'file_9000_9150.txt')]\n",
    "address_6 = [x.split('\\n')[0] for x in open(path_files + 'file_9150_11041.txt')]\n",
    "address_7 = [x.split('\\n')[0] for x in open(path_files + 'file_11042_15198.txt')]\n",
    "address_8 = [x.split('\\n')[0] for x in open(path_files + 'file_15198_16788.txt')]\n",
    "address_9 = [x.split('\\n')[0] for x in open(path_files + 'file_16788_21814.txt')]"
   ]
  },
  {
   "cell_type": "code",
   "execution_count": 4,
   "metadata": {},
   "outputs": [
    {
     "name": "stdout",
     "output_type": "stream",
     "text": [
      "Длина каждого из наборов: 4470, 2530, 1000, 1000, 150, 1891, 4157, 1590, 5026\n",
      "Длина суммарная всех наборов: 21814\n"
     ]
    }
   ],
   "source": [
    "# Check\n",
    "l1 = len(address_1)\n",
    "l2 = len(address_2)\n",
    "l3 = len(address_3)\n",
    "l4 = len(address_4)\n",
    "l5 = len(address_5)\n",
    "l6 = len(address_6)\n",
    "l7 = len(address_7)\n",
    "l8 = len(address_8)\n",
    "l9 = len(address_9)\n",
    "print(f\"Длина каждого из наборов: {l1}, {l2}, {l3}, {l4}, {l5}, {l6}, {l7}, {l8}, {l9}\")\n",
    "print(f\"Длина суммарная всех наборов: {l1 + l2 + l3 + l4 + l5 + l6 + l7 + l8 + l9}\")"
   ]
  },
  {
   "cell_type": "code",
   "execution_count": 7,
   "metadata": {},
   "outputs": [],
   "source": [
    "all_address = address_1 + address_2 + address_3 \\\n",
    "    + address_4 + address_5 + address_6 \\\n",
    "    + address_7 + address_8 + address_9"
   ]
  },
  {
   "cell_type": "code",
   "execution_count": 8,
   "metadata": {},
   "outputs": [
    {
     "name": "stdout",
     "output_type": "stream",
     "text": [
      "Длина всех адресов: 21814\n"
     ]
    }
   ],
   "source": [
    "len_all_addresses = len(all_address)\n",
    "print(f\"Длина всех адресов: {len_all_addresses}\")"
   ]
  },
  {
   "cell_type": "code",
   "execution_count": 7,
   "metadata": {},
   "outputs": [
    {
     "data": {
      "text/html": [
       "<div>\n",
       "<style scoped>\n",
       "    .dataframe tbody tr th:only-of-type {\n",
       "        vertical-align: middle;\n",
       "    }\n",
       "\n",
       "    .dataframe tbody tr th {\n",
       "        vertical-align: top;\n",
       "    }\n",
       "\n",
       "    .dataframe thead th {\n",
       "        text-align: right;\n",
       "    }\n",
       "</style>\n",
       "<table border=\"1\" class=\"dataframe\">\n",
       "  <thead>\n",
       "    <tr style=\"text-align: right;\">\n",
       "      <th></th>\n",
       "      <th>adress</th>\n",
       "    </tr>\n",
       "  </thead>\n",
       "  <tbody>\n",
       "    <tr>\n",
       "      <th>0</th>\n",
       "      <td>Москва, 4-й Кожевнический переулок, 4</td>\n",
       "    </tr>\n",
       "    <tr>\n",
       "      <th>1</th>\n",
       "      <td>Москва, улица Малая Дмитровка, 15</td>\n",
       "    </tr>\n",
       "    <tr>\n",
       "      <th>2</th>\n",
       "      <td>Москва, улица Кирпичные Выемки, 2, корп. 1</td>\n",
       "    </tr>\n",
       "    <tr>\n",
       "      <th>3</th>\n",
       "      <td>Москва, Старокалужское шоссе, 62</td>\n",
       "    </tr>\n",
       "    <tr>\n",
       "      <th>4</th>\n",
       "      <td>Москва, Болотная набережная, 15</td>\n",
       "    </tr>\n",
       "    <tr>\n",
       "      <th>...</th>\n",
       "      <td>...</td>\n",
       "    </tr>\n",
       "    <tr>\n",
       "      <th>26099</th>\n",
       "      <td>Москва, улица Борисовские Пруды, 1А</td>\n",
       "    </tr>\n",
       "    <tr>\n",
       "      <th>26100</th>\n",
       "      <td>Москва, Нагорная улица, 15к8</td>\n",
       "    </tr>\n",
       "    <tr>\n",
       "      <th>26101</th>\n",
       "      <td>Москва, Люблинская улица, 76к3</td>\n",
       "    </tr>\n",
       "    <tr>\n",
       "      <th>26102</th>\n",
       "      <td>Москва, проспект Андропова, 1А</td>\n",
       "    </tr>\n",
       "    <tr>\n",
       "      <th>26103</th>\n",
       "      <td>Москва, Старопетровский проезд, 10</td>\n",
       "    </tr>\n",
       "  </tbody>\n",
       "</table>\n",
       "<p>26104 rows × 1 columns</p>\n",
       "</div>"
      ],
      "text/plain": [
       "                                           adress\n",
       "0           Москва, 4-й Кожевнический переулок, 4\n",
       "1               Москва, улица Малая Дмитровка, 15\n",
       "2      Москва, улица Кирпичные Выемки, 2, корп. 1\n",
       "3                Москва, Старокалужское шоссе, 62\n",
       "4                 Москва, Болотная набережная, 15\n",
       "...                                           ...\n",
       "26099         Москва, улица Борисовские Пруды, 1А\n",
       "26100                Москва, Нагорная улица, 15к8\n",
       "26101              Москва, Люблинская улица, 76к3\n",
       "26102              Москва, проспект Андропова, 1А\n",
       "26103          Москва, Старопетровский проезд, 10\n",
       "\n",
       "[26104 rows x 1 columns]"
      ]
     },
     "execution_count": 7,
     "metadata": {},
     "output_type": "execute_result"
    }
   ],
   "source": [
    "db = pd.read_csv('/Users/aleksejshevcenko/Documents/BMSTU/Semester_5/BasdeOfTAI/tg-bot-recsys/moscow_unique_adress.csv')\n",
    "db = db.drop('Unnamed: 0', axis=1)\n",
    "db"
   ]
  },
  {
   "cell_type": "code",
   "execution_count": 14,
   "metadata": {},
   "outputs": [
    {
     "data": {
      "text/html": [
       "<div>\n",
       "<style scoped>\n",
       "    .dataframe tbody tr th:only-of-type {\n",
       "        vertical-align: middle;\n",
       "    }\n",
       "\n",
       "    .dataframe tbody tr th {\n",
       "        vertical-align: top;\n",
       "    }\n",
       "\n",
       "    .dataframe thead th {\n",
       "        text-align: right;\n",
       "    }\n",
       "</style>\n",
       "<table border=\"1\" class=\"dataframe\">\n",
       "  <thead>\n",
       "    <tr style=\"text-align: right;\">\n",
       "      <th></th>\n",
       "      <th>adress</th>\n",
       "    </tr>\n",
       "  </thead>\n",
       "  <tbody>\n",
       "    <tr>\n",
       "      <th>0</th>\n",
       "      <td>Екатеринбург, ул. Московская / ул. Волгоградск...</td>\n",
       "    </tr>\n",
       "    <tr>\n",
       "      <th>1</th>\n",
       "      <td>Московская область, Электросталь, проспект Лен...</td>\n",
       "    </tr>\n",
       "    <tr>\n",
       "      <th>2</th>\n",
       "      <td>Краснодар, Прикубанский внутригородской округ,...</td>\n",
       "    </tr>\n",
       "    <tr>\n",
       "      <th>3</th>\n",
       "      <td>Санкт-Петербург, проспект Энгельса, 111, корп. 1</td>\n",
       "    </tr>\n",
       "    <tr>\n",
       "      <th>4</th>\n",
       "      <td>Тверь, Волоколамский проспект, 39</td>\n",
       "    </tr>\n",
       "    <tr>\n",
       "      <th>...</th>\n",
       "      <td>...</td>\n",
       "    </tr>\n",
       "    <tr>\n",
       "      <th>191920</th>\n",
       "      <td>Саратов, Астраханская улица, 1Е</td>\n",
       "    </tr>\n",
       "    <tr>\n",
       "      <th>191921</th>\n",
       "      <td>Саратовская область, рабочий посёлок Озинки</td>\n",
       "    </tr>\n",
       "    <tr>\n",
       "      <th>191922</th>\n",
       "      <td>Севастополь, проспект Генерала Острякова, 155В</td>\n",
       "    </tr>\n",
       "    <tr>\n",
       "      <th>191923</th>\n",
       "      <td>Великий Новгород, Городище, 19-й квартал</td>\n",
       "    </tr>\n",
       "    <tr>\n",
       "      <th>191924</th>\n",
       "      <td>Челябинск, улица Свободы, 2, корп. 5</td>\n",
       "    </tr>\n",
       "  </tbody>\n",
       "</table>\n",
       "<p>191925 rows × 1 columns</p>\n",
       "</div>"
      ],
      "text/plain": [
       "                                                   adress\n",
       "0       Екатеринбург, ул. Московская / ул. Волгоградск...\n",
       "1       Московская область, Электросталь, проспект Лен...\n",
       "2       Краснодар, Прикубанский внутригородской округ,...\n",
       "3        Санкт-Петербург, проспект Энгельса, 111, корп. 1\n",
       "4                       Тверь, Волоколамский проспект, 39\n",
       "...                                                   ...\n",
       "191920                    Саратов, Астраханская улица, 1Е\n",
       "191921        Саратовская область, рабочий посёлок Озинки\n",
       "191922     Севастополь, проспект Генерала Острякова, 155В\n",
       "191923           Великий Новгород, Городище, 19-й квартал\n",
       "191924               Челябинск, улица Свободы, 2, корп. 5\n",
       "\n",
       "[191925 rows x 1 columns]"
      ]
     },
     "execution_count": 14,
     "metadata": {},
     "output_type": "execute_result"
    }
   ],
   "source": [
    "all = pd.read_csv('all_adresses.csv')\n",
    "all = all.drop('Unnamed: 0', axis=1)\n",
    "all"
   ]
  },
  {
   "cell_type": "code",
   "execution_count": 19,
   "metadata": {},
   "outputs": [
    {
     "data": {
      "text/html": [
       "<div>\n",
       "<style scoped>\n",
       "    .dataframe tbody tr th:only-of-type {\n",
       "        vertical-align: middle;\n",
       "    }\n",
       "\n",
       "    .dataframe tbody tr th {\n",
       "        vertical-align: top;\n",
       "    }\n",
       "\n",
       "    .dataframe thead th {\n",
       "        text-align: right;\n",
       "    }\n",
       "</style>\n",
       "<table border=\"1\" class=\"dataframe\">\n",
       "  <thead>\n",
       "    <tr style=\"text-align: right;\">\n",
       "      <th></th>\n",
       "      <th>adress</th>\n",
       "    </tr>\n",
       "  </thead>\n",
       "  <tbody>\n",
       "    <tr>\n",
       "      <th>1</th>\n",
       "      <td>Московская область, Электросталь, проспект Лен...</td>\n",
       "    </tr>\n",
       "    <tr>\n",
       "      <th>16</th>\n",
       "      <td>Московская область, Наро-Фоминск, улица Калини...</td>\n",
       "    </tr>\n",
       "    <tr>\n",
       "      <th>20</th>\n",
       "      <td>Московская область, Орехово-Зуевский городской...</td>\n",
       "    </tr>\n",
       "    <tr>\n",
       "      <th>24</th>\n",
       "      <td>Московская область, Шатура, Ботинский проезд, 37</td>\n",
       "    </tr>\n",
       "    <tr>\n",
       "      <th>27</th>\n",
       "      <td>Московская область, Богородский городской окру...</td>\n",
       "    </tr>\n",
       "    <tr>\n",
       "      <th>...</th>\n",
       "      <td>...</td>\n",
       "    </tr>\n",
       "    <tr>\n",
       "      <th>191863</th>\n",
       "      <td>Московская область, Солнечногорск, Лесная улиц...</td>\n",
       "    </tr>\n",
       "    <tr>\n",
       "      <th>191870</th>\n",
       "      <td>Московская область, Красногорск, улица имени Е...</td>\n",
       "    </tr>\n",
       "    <tr>\n",
       "      <th>191886</th>\n",
       "      <td>Московская область, Балашиха, микрорайон Желез...</td>\n",
       "    </tr>\n",
       "    <tr>\n",
       "      <th>191889</th>\n",
       "      <td>Московская область, Подольск, Комсомольская ул...</td>\n",
       "    </tr>\n",
       "    <tr>\n",
       "      <th>191899</th>\n",
       "      <td>Московская область, Красногорск, Центральная у...</td>\n",
       "    </tr>\n",
       "  </tbody>\n",
       "</table>\n",
       "<p>18707 rows × 1 columns</p>\n",
       "</div>"
      ],
      "text/plain": [
       "                                                   adress\n",
       "1       Московская область, Электросталь, проспект Лен...\n",
       "16      Московская область, Наро-Фоминск, улица Калини...\n",
       "20      Московская область, Орехово-Зуевский городской...\n",
       "24       Московская область, Шатура, Ботинский проезд, 37\n",
       "27      Московская область, Богородский городской окру...\n",
       "...                                                   ...\n",
       "191863  Московская область, Солнечногорск, Лесная улиц...\n",
       "191870  Московская область, Красногорск, улица имени Е...\n",
       "191886  Московская область, Балашиха, микрорайон Желез...\n",
       "191889  Московская область, Подольск, Комсомольская ул...\n",
       "191899  Московская область, Красногорск, Центральная у...\n",
       "\n",
       "[18707 rows x 1 columns]"
      ]
     },
     "execution_count": 19,
     "metadata": {},
     "output_type": "execute_result"
    }
   ],
   "source": [
    "mos_obl = all[all['adress'].str.contains('Московская область')]\n",
    "mos_obl"
   ]
  },
  {
   "cell_type": "code",
   "execution_count": 20,
   "metadata": {},
   "outputs": [],
   "source": [
    "mos_obl.to_csv('moscow_oblasty_adress.csv')"
   ]
  }
 ],
 "metadata": {
  "kernelspec": {
   "display_name": "Python 3",
   "language": "python",
   "name": "python3"
  },
  "language_info": {
   "codemirror_mode": {
    "name": "ipython",
    "version": 3
   },
   "file_extension": ".py",
   "mimetype": "text/x-python",
   "name": "python",
   "nbconvert_exporter": "python",
   "pygments_lexer": "ipython3",
   "version": "3.11.2"
  }
 },
 "nbformat": 4,
 "nbformat_minor": 2
}
